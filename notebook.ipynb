{
 "cells": [
  {
   "cell_type": "code",
   "execution_count": 3,
   "id": "550b3d1f",
   "metadata": {},
   "outputs": [],
   "source": [
    "import json\n",
    "\n",
    "class Args:\n",
    "    data_dir = \"/beluga/Hack12_multi_type_seaice\"\n",
    "    num_workers = 0\n",
    "    config = \"params.json\"\n",
    "\n",
    "args = Args()\n",
    "\n",
    "with open(args.config, 'r') as f:\n",
    "    config = json.load(f)\n",
    "    data_info_params = config.get(\"Datainfo\")\n",
    "    model_params = config.get(\"Model_params\")\n",
    "    Train_setting_params = config.get(\"Train_setting\")"
   ]
  },
  {
   "cell_type": "code",
   "execution_count": 4,
   "id": "f75dda63",
   "metadata": {},
   "outputs": [
    {
     "name": "stderr",
     "output_type": "stream",
     "text": [
      "/home/quinn/.conda/envs/ml/lib/python3.12/site-packages/osgeo/gdal.py:330: FutureWarning: Neither gdal.UseExceptions() nor gdal.DontUseExceptions() has been explicitly called. In GDAL 4.0, exceptions will be enabled by default.\n",
      "  warnings.warn(\n"
     ]
    },
    {
     "name": "stdout",
     "output_type": "stream",
     "text": [
      "Loaded 618 patches for train split\n",
      "Loaded 268 patches for val split\n",
      "Loaded 305 patches for test split\n"
     ]
    },
    {
     "name": "stderr",
     "output_type": "stream",
     "text": [
      "Calculating class weights: 100%|██████████| 618/618 [00:00<00:00, 4140.75it/s]\n"
     ]
    }
   ],
   "source": [
    "from new_mapping import create_data_loaders\n",
    "\n",
    "train_loader, val_loader, test_loader, class_weights, test_dataset = create_data_loaders(\n",
    "    root_dir=args.data_dir,\n",
    "    batch_size=config['Train_setting']['batch_size'],\n",
    "    num_workers=args.num_workers,\n",
    "    include_background=False\n",
    ")\n",
    "\n",
    "batch = next(iter(train_loader))"
   ]
  }
 ],
 "metadata": {
  "kernelspec": {
   "display_name": "ml",
   "language": "python",
   "name": "python3"
  },
  "language_info": {
   "codemirror_mode": {
    "name": "ipython",
    "version": 3
   },
   "file_extension": ".py",
   "mimetype": "text/x-python",
   "name": "python",
   "nbconvert_exporter": "python",
   "pygments_lexer": "ipython3",
   "version": "3.12.9"
  }
 },
 "nbformat": 4,
 "nbformat_minor": 5
}
